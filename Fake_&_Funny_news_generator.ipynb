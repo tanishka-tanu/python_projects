{
 "cells": [
  {
   "cell_type": "markdown",
   "id": "0f60a340-09c2-46a2-a87f-f5e0064e0272",
   "metadata": {},
   "source": [
    "# Fake & Funny News Generator"
   ]
  },
  {
   "cell_type": "code",
   "execution_count": 8,
   "id": "3539b201-ab8f-41e6-9320-8e0d85bbdecf",
   "metadata": {},
   "outputs": [
    {
     "name": "stdout",
     "output_type": "stream",
     "text": [
      "\n",
      " BREAKING NEWS : Saina Nehwal wrote a love letter to a Wi-Fi router in the Sahara Desert\n",
      "\n"
     ]
    },
    {
     "name": "stdin",
     "output_type": "stream",
     "text": [
      "Do you want another headline ? (yes/no) yes\n"
     ]
    },
    {
     "name": "stdout",
     "output_type": "stream",
     "text": [
      "\n",
      " BREAKING NEWS : Ashish Chanchlani ordered pizza to Mars in the principal’s office\n",
      "\n"
     ]
    },
    {
     "name": "stdin",
     "output_type": "stream",
     "text": [
      "Do you want another headline ? (yes/no) yes\n"
     ]
    },
    {
     "name": "stdout",
     "output_type": "stream",
     "text": [
      "\n",
      " BREAKING NEWS : Sourav Joshi sang a lullaby to a tiger at Red Fort\n",
      "\n"
     ]
    },
    {
     "name": "stdin",
     "output_type": "stream",
     "text": [
      "Do you want another headline ? (yes/no) yes\n"
     ]
    },
    {
     "name": "stdout",
     "output_type": "stream",
     "text": [
      "\n",
      " BREAKING NEWS : Virat Kohli watched a horror movie with a teddy bear on the moon\n",
      "\n"
     ]
    },
    {
     "name": "stdin",
     "output_type": "stream",
     "text": [
      "Do you want another headline ? (yes/no) yes\n"
     ]
    },
    {
     "name": "stdout",
     "output_type": "stream",
     "text": [
      "\n",
      " BREAKING NEWS : Triggered Insaan watched a horror movie with a teddy bear in a Bollywood film set\n",
      "\n"
     ]
    },
    {
     "name": "stdin",
     "output_type": "stream",
     "text": [
      "Do you want another headline ? (yes/no) yes\n"
     ]
    },
    {
     "name": "stdout",
     "output_type": "stream",
     "text": [
      "\n",
      " BREAKING NEWS : Rahul Gandhi argued with a pigeon at a yoga retreat for cats\n",
      "\n"
     ]
    },
    {
     "name": "stdin",
     "output_type": "stream",
     "text": [
      "Do you want another headline ? (yes/no) yes\n"
     ]
    },
    {
     "name": "stdout",
     "output_type": "stream",
     "text": [
      "\n",
      " BREAKING NEWS : Ankur Warikoo used a shampoo bottle as a mic at Hogwarts\n",
      "\n"
     ]
    },
    {
     "name": "stdin",
     "output_type": "stream",
     "text": [
      "Do you want another headline ? (yes/no) yes\n"
     ]
    },
    {
     "name": "stdout",
     "output_type": "stream",
     "text": [
      "\n",
      " BREAKING NEWS : Sania Mirza got stuck in an elevator with a goat in the principal’s office\n",
      "\n"
     ]
    },
    {
     "name": "stdin",
     "output_type": "stream",
     "text": [
      "Do you want another headline ? (yes/no) yes\n"
     ]
    },
    {
     "name": "stdout",
     "output_type": "stream",
     "text": [
      "\n",
      " BREAKING NEWS : Kiran Mazumdar-Shaw mistook a banana for a phone on a rollercoaster\n",
      "\n"
     ]
    },
    {
     "name": "stdin",
     "output_type": "stream",
     "text": [
      "Do you want another headline ? (yes/no) no\n"
     ]
    },
    {
     "name": "stdout",
     "output_type": "stream",
     "text": [
      "Thanks for using Fake & Funny News Generator. Have Fun\n"
     ]
    }
   ],
   "source": [
    "import random \n",
    "subjects = [\n",
    "    \"Shahrukh Khan\", \"Deepika Padukone\", \"Ranbir Kapoor\", \"Alia Bhatt\", \"Salman Khan\",\n",
    "    \"Priyanka Chopra\", \"Aamir Khan\", \"Kriti Sanon\", \"Hrithik Roshan\", \"Kareena Kapoor Khan\",\n",
    "    \n",
    "    \"Virat Kohli\", \"M.S. Dhoni\", \"Sachin Tendulkar\", \"Rohit Sharma\", \"PV Sindhu\",\n",
    "    \"Neeraj Chopra\", \"Mary Kom\", \"Sunil Chhetri\", \"Sania Mirza\", \"Saina Nehwal\",\n",
    "    \n",
    "    \"Narendra Modi\", \"Rahul Gandhi\", \"Arvind Kejriwal\", \"Mamata Banerjee\", \"Yogi Adityanath\",\n",
    "    \"Smriti Irani\", \"Manmohan Singh\", \"Shashi Tharoor\", \"Nirmala Sitharaman\", \"Ashok Gehlot\",\n",
    "    \n",
    "    \"Bhuvan Bam\", \"CarryMinati\", \"Ashish Chanchlani\", \"Prajakta Koli\", \"Flying Beast\",\n",
    "    \"Triggered Insaan\", \"Sourav Joshi\", \"Ankur Warikoo\", \"Niharika NM\", \"Kusha Kapila\",\n",
    "    \n",
    "    \"Ratan Tata\", \"Mukesh Ambani\", \"Nandan Nilekani\", \"Kiran Mazumdar-Shaw\", \"Gautam Adani\",\n",
    "    \"Byju Raveendran\", \"Falguni Nayar\", \"Narayana Murthy\", \"Vijay Shekhar Sharma\", \"Sundar Pichai\"\n",
    "]\n",
    "actions = [\n",
    "    \"danced on the moon\",\n",
    "    \"got lost in their own house\",\n",
    "    \"cooked biryani in a washing machine\",\n",
    "    \"forgot how to clap\",\n",
    "    \"argued with a pigeon\",\n",
    "    \"started a podcast with a cat\",\n",
    "    \"painted the sky pink\",\n",
    "    \"became invisible accidentally\",\n",
    "    \"mistook a banana for a phone\",\n",
    "    \"wrote a love letter to a Wi-Fi router\",\n",
    "    \"slept for 3 days straight\",\n",
    "    \"sang a lullaby to a tiger\",\n",
    "    \"ate Maggi with chocolate syrup\",\n",
    "    \"got stuck in an elevator with a goat\",\n",
    "    \"created a dance move called ‘The Chapati Twist’\",\n",
    "    \"taught yoga to aliens\",\n",
    "    \"ordered pizza to Mars\",\n",
    "    \"tried to tickle their own nose with their foot\",\n",
    "    \"used a shampoo bottle as a mic\",\n",
    "    \"played chess with a squirrel\",\n",
    "    \"went on a date with Siri\",\n",
    "    \"did push-ups in an elevator\",\n",
    "    \"pranked their mirror reflection\",\n",
    "    \"watched a horror movie with a teddy bear\",\n",
    "    \"posed as a statue in the mall\",\n",
    "    \"spoke fluent dolphin for 2 minutes\",\n",
    "    \"took a selfie with a ghost\",\n",
    "    \"accidentally joined a Zoom meeting in pajamas\",\n",
    "    \"got chased by a robotic vacuum\",\n",
    "    \"screamed ‘I love pani puri’ in public\"\n",
    "]\n",
    "places = [\n",
    "    \"at Red Fort\",\n",
    "    \"in a Mumbai local train\",\n",
    "    \"on top of a moving bus\",\n",
    "    \"inside a washing machine\",\n",
    "    \"in a haunted library\",\n",
    "    \"at a pani puri stall\",\n",
    "    \"under the dining table\",\n",
    "    \"inside a giant teacup\",\n",
    "    \"in front of the Eiffel Tower\",\n",
    "    \"on the moon\",\n",
    "    \"at a boring Zoom meeting\",\n",
    "    \"in the middle of a football match\",\n",
    "    \"on a rollercoaster\",\n",
    "    \"inside a fridge\",\n",
    "    \"at a wedding they weren’t invited to\",\n",
    "    \"in the principal’s office\",\n",
    "    \"at Hogwarts\",\n",
    "    \"on a flying carpet\",\n",
    "    \"in a bathtub full of noodles\",\n",
    "    \"in the Sahara Desert\",\n",
    "    \"on a pirate ship\",\n",
    "    \"at a rave party in Antarctica\",\n",
    "    \"on the roof of a moving train\",\n",
    "    \"inside a giant donut\",\n",
    "    \"in a Bollywood film set\",\n",
    "    \"on a cloud shaped like a panda\",\n",
    "    \"at a dog’s birthday party\",\n",
    "    \"in a UFO\",\n",
    "    \"at a yoga retreat for cats\",\n",
    "    \"on top of Mount Everest\"\n",
    "]\n",
    "\n",
    "while True:\n",
    "    subject = random.choice(subjects)\n",
    "    action = random.choice(actions)\n",
    "    place = random.choice(places)\n",
    "    headline = f\" BREAKING NEWS : {subject} {action} {place}\"\n",
    "    print('\\n'+headline+'\\n')\n",
    "    user_input = input(\"Do you want another headline ? (yes/no)\").strip().lower()\n",
    "    if(user_input == 'no'):\n",
    "        break\n",
    "\n",
    "print(\"Thanks for using Fake & Funny News Generator. Have Fun\")\n",
    "    "
   ]
  },
  {
   "cell_type": "code",
   "execution_count": null,
   "id": "c39c79e7-2f9d-471c-be9b-21a99e889e45",
   "metadata": {},
   "outputs": [],
   "source": []
  }
 ],
 "metadata": {
  "kernelspec": {
   "display_name": "Python [conda env:base] *",
   "language": "python",
   "name": "conda-base-py"
  },
  "language_info": {
   "codemirror_mode": {
    "name": "ipython",
    "version": 3
   },
   "file_extension": ".py",
   "mimetype": "text/x-python",
   "name": "python",
   "nbconvert_exporter": "python",
   "pygments_lexer": "ipython3",
   "version": "3.12.7"
  }
 },
 "nbformat": 4,
 "nbformat_minor": 5
}
